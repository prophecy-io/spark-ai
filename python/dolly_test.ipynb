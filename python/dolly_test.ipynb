{
 "cells": [
  {
   "cell_type": "code",
   "execution_count": 1,
   "metadata": {
    "collapsed": true,
    "ExecuteTime": {
     "end_time": "2023-06-23T03:12:23.476677Z",
     "start_time": "2023-06-23T03:12:21.982068Z"
    }
   },
   "outputs": [],
   "source": [
    "from transformers import pipeline\n",
    "import torch"
   ]
  },
  {
   "cell_type": "code",
   "execution_count": 2,
   "outputs": [
    {
     "name": "stdout",
     "output_type": "stream",
     "text": [
      "Is MPS (Metal Performance Shader) built? True\n",
      "Is MPS available? True\n"
     ]
    }
   ],
   "source": [
    "print(f\"Is MPS (Metal Performance Shader) built? {torch.backends.mps.is_built()}\")\n",
    "print(f\"Is MPS available? {torch.backends.mps.is_available()}\")"
   ],
   "metadata": {
    "collapsed": false,
    "ExecuteTime": {
     "end_time": "2023-06-23T03:12:23.494174Z",
     "start_time": "2023-06-23T03:12:23.490791Z"
    }
   }
  },
  {
   "cell_type": "code",
   "execution_count": 4,
   "outputs": [
    {
     "name": "stderr",
     "output_type": "stream",
     "text": [
      "The model weights are not tied. Please use the `tie_weights` method before using the `infer_auto_device` function.\n",
      "The argument `trust_remote_code` is to be used with Auto classes. It has no effect here and is ignored.\n",
      "The model weights are not tied. Please use the `tie_weights` method before using the `infer_auto_device` function.\n"
     ]
    },
    {
     "data": {
      "text/plain": "\u001B[31m╭─\u001B[0m\u001B[31m──────────────────────────────\u001B[0m\u001B[31m \u001B[0m\u001B[1;31mTraceback \u001B[0m\u001B[1;2;31m(most recent call last)\u001B[0m\u001B[31m \u001B[0m\u001B[31m───────────────────────────────\u001B[0m\u001B[31m─╮\u001B[0m\n\u001B[31m│\u001B[0m \u001B[2;33m/var/folders/4m/mvk1kjn52h70lsg2xf2s43kc0000gn/T/ipykernel_37235/\u001B[0m\u001B[1;33m776849828.py\u001B[0m:\u001B[94m1\u001B[0m in \u001B[92m<module>\u001B[0m      \u001B[31m│\u001B[0m\n\u001B[31m│\u001B[0m                                                                                                  \u001B[31m│\u001B[0m\n\u001B[31m│\u001B[0m \u001B[3;31m[Errno 2] No such file or directory: \u001B[0m                                                            \u001B[31m│\u001B[0m\n\u001B[31m│\u001B[0m \u001B[3;31m'/var/folders/4m/mvk1kjn52h70lsg2xf2s43kc0000gn/T/ipykernel_37235/776849828.py'\u001B[0m                  \u001B[31m│\u001B[0m\n\u001B[31m│\u001B[0m                                                                                                  \u001B[31m│\u001B[0m\n\u001B[31m│\u001B[0m \u001B[2;33m/opt/homebrew/lib/python3.10/site-packages/transformers/pipelines/\u001B[0m\u001B[1;33m__init__.py\u001B[0m:\u001B[94m788\u001B[0m in \u001B[92mpipeline\u001B[0m    \u001B[31m│\u001B[0m\n\u001B[31m│\u001B[0m                                                                                                  \u001B[31m│\u001B[0m\n\u001B[31m│\u001B[0m   \u001B[2m785 \u001B[0m\u001B[2m│   \u001B[0m\u001B[2m# Forced if framework already defined, inferred if it's None\u001B[0m                           \u001B[31m│\u001B[0m\n\u001B[31m│\u001B[0m   \u001B[2m786 \u001B[0m\u001B[2m│   \u001B[0m\u001B[2m# Will load the correct model if possible\u001B[0m                                              \u001B[31m│\u001B[0m\n\u001B[31m│\u001B[0m   \u001B[2m787 \u001B[0m\u001B[2m│   \u001B[0mmodel_classes = {\u001B[33m\"\u001B[0m\u001B[33mtf\u001B[0m\u001B[33m\"\u001B[0m: targeted_task[\u001B[33m\"\u001B[0m\u001B[33mtf\u001B[0m\u001B[33m\"\u001B[0m], \u001B[33m\"\u001B[0m\u001B[33mpt\u001B[0m\u001B[33m\"\u001B[0m: targeted_task[\u001B[33m\"\u001B[0m\u001B[33mpt\u001B[0m\u001B[33m\"\u001B[0m]}                 \u001B[31m│\u001B[0m\n\u001B[31m│\u001B[0m \u001B[31m❱ \u001B[0m788 \u001B[2m│   \u001B[0mframework, model = infer_framework_load_model(                                         \u001B[31m│\u001B[0m\n\u001B[31m│\u001B[0m   \u001B[2m789 \u001B[0m\u001B[2m│   │   \u001B[0mmodel,                                                                             \u001B[31m│\u001B[0m\n\u001B[31m│\u001B[0m   \u001B[2m790 \u001B[0m\u001B[2m│   │   \u001B[0mmodel_classes=model_classes,                                                       \u001B[31m│\u001B[0m\n\u001B[31m│\u001B[0m   \u001B[2m791 \u001B[0m\u001B[2m│   │   \u001B[0mconfig=config,                                                                     \u001B[31m│\u001B[0m\n\u001B[31m│\u001B[0m                                                                                                  \u001B[31m│\u001B[0m\n\u001B[31m│\u001B[0m \u001B[2;33m/opt/homebrew/lib/python3.10/site-packages/transformers/pipelines/\u001B[0m\u001B[1;33mbase.py\u001B[0m:\u001B[94m278\u001B[0m in                 \u001B[31m│\u001B[0m\n\u001B[31m│\u001B[0m \u001B[92minfer_framework_load_model\u001B[0m                                                                       \u001B[31m│\u001B[0m\n\u001B[31m│\u001B[0m                                                                                                  \u001B[31m│\u001B[0m\n\u001B[31m│\u001B[0m   \u001B[2m 275 \u001B[0m\u001B[2m│   │   │   │   \u001B[0m\u001B[94mcontinue\u001B[0m                                                                  \u001B[31m│\u001B[0m\n\u001B[31m│\u001B[0m   \u001B[2m 276 \u001B[0m\u001B[2m│   │   \u001B[0m                                                                                  \u001B[31m│\u001B[0m\n\u001B[31m│\u001B[0m   \u001B[2m 277 \u001B[0m\u001B[2m│   │   \u001B[0m\u001B[94mif\u001B[0m \u001B[96misinstance\u001B[0m(model, \u001B[96mstr\u001B[0m):                                                        \u001B[31m│\u001B[0m\n\u001B[31m│\u001B[0m \u001B[31m❱ \u001B[0m 278 \u001B[2m│   │   │   \u001B[0m\u001B[94mraise\u001B[0m \u001B[96mValueError\u001B[0m(\u001B[33mf\u001B[0m\u001B[33m\"\u001B[0m\u001B[33mCould not load model \u001B[0m\u001B[33m{\u001B[0mmodel\u001B[33m}\u001B[0m\u001B[33m with any of the following cl\u001B[0m  \u001B[31m│\u001B[0m\n\u001B[31m│\u001B[0m   \u001B[2m 279 \u001B[0m\u001B[2m│   \u001B[0m                                                                                      \u001B[31m│\u001B[0m\n\u001B[31m│\u001B[0m   \u001B[2m 280 \u001B[0m\u001B[2m│   \u001B[0mframework = infer_framework(model.\u001B[91m__class__\u001B[0m)                                          \u001B[31m│\u001B[0m\n\u001B[31m│\u001B[0m   \u001B[2m 281 \u001B[0m\u001B[2m│   \u001B[0m\u001B[94mreturn\u001B[0m framework, model                                                               \u001B[31m│\u001B[0m\n\u001B[31m╰──────────────────────────────────────────────────────────────────────────────────────────────────╯\u001B[0m\n\u001B[1;91mValueError: \u001B[0mCould not load model databricks/dolly-v2-12b with any of the following classes: \u001B[1m(\u001B[0m\u001B[1m<\u001B[0m\u001B[1;95mclass\u001B[0m\u001B[39m \u001B[0m\n\u001B[32m'transformers.models.auto.modeling_auto.AutoModelForCausalLM'\u001B[0m\u001B[39m>, <class \u001B[0m\n\u001B[32m'transformers.models.gpt_neox.modeling_gpt_neox.GPTNeoXForCausalLM'\u001B[0m\u001B[1m>\u001B[0m\u001B[1m)\u001B[0m.\n",
      "text/html": "<pre style=\"white-space:pre;overflow-x:auto;line-height:normal;font-family:Menlo,'DejaVu Sans Mono',consolas,'Courier New',monospace\"><span style=\"color: #800000; text-decoration-color: #800000\">╭─────────────────────────────── </span><span style=\"color: #800000; text-decoration-color: #800000; font-weight: bold\">Traceback </span><span style=\"color: #bf7f7f; text-decoration-color: #bf7f7f; font-weight: bold\">(most recent call last)</span><span style=\"color: #800000; text-decoration-color: #800000\"> ────────────────────────────────╮</span>\n<span style=\"color: #800000; text-decoration-color: #800000\">│</span> <span style=\"color: #bfbf7f; text-decoration-color: #bfbf7f\">/var/folders/4m/mvk1kjn52h70lsg2xf2s43kc0000gn/T/ipykernel_37235/</span><span style=\"color: #808000; text-decoration-color: #808000; font-weight: bold\">776849828.py</span>:<span style=\"color: #0000ff; text-decoration-color: #0000ff\">1</span> in <span style=\"color: #00ff00; text-decoration-color: #00ff00\">&lt;module&gt;</span>      <span style=\"color: #800000; text-decoration-color: #800000\">│</span>\n<span style=\"color: #800000; text-decoration-color: #800000\">│</span>                                                                                                  <span style=\"color: #800000; text-decoration-color: #800000\">│</span>\n<span style=\"color: #800000; text-decoration-color: #800000\">│</span> <span style=\"color: #800000; text-decoration-color: #800000; font-style: italic\">[Errno 2] No such file or directory: </span>                                                            <span style=\"color: #800000; text-decoration-color: #800000\">│</span>\n<span style=\"color: #800000; text-decoration-color: #800000\">│</span> <span style=\"color: #800000; text-decoration-color: #800000; font-style: italic\">'/var/folders/4m/mvk1kjn52h70lsg2xf2s43kc0000gn/T/ipykernel_37235/776849828.py'</span>                  <span style=\"color: #800000; text-decoration-color: #800000\">│</span>\n<span style=\"color: #800000; text-decoration-color: #800000\">│</span>                                                                                                  <span style=\"color: #800000; text-decoration-color: #800000\">│</span>\n<span style=\"color: #800000; text-decoration-color: #800000\">│</span> <span style=\"color: #bfbf7f; text-decoration-color: #bfbf7f\">/opt/homebrew/lib/python3.10/site-packages/transformers/pipelines/</span><span style=\"color: #808000; text-decoration-color: #808000; font-weight: bold\">__init__.py</span>:<span style=\"color: #0000ff; text-decoration-color: #0000ff\">788</span> in <span style=\"color: #00ff00; text-decoration-color: #00ff00\">pipeline</span>    <span style=\"color: #800000; text-decoration-color: #800000\">│</span>\n<span style=\"color: #800000; text-decoration-color: #800000\">│</span>                                                                                                  <span style=\"color: #800000; text-decoration-color: #800000\">│</span>\n<span style=\"color: #800000; text-decoration-color: #800000\">│</span>   <span style=\"color: #7f7f7f; text-decoration-color: #7f7f7f\">785 │   # Forced if framework already defined, inferred if it's None</span>                           <span style=\"color: #800000; text-decoration-color: #800000\">│</span>\n<span style=\"color: #800000; text-decoration-color: #800000\">│</span>   <span style=\"color: #7f7f7f; text-decoration-color: #7f7f7f\">786 │   # Will load the correct model if possible</span>                                              <span style=\"color: #800000; text-decoration-color: #800000\">│</span>\n<span style=\"color: #800000; text-decoration-color: #800000\">│</span>   <span style=\"color: #7f7f7f; text-decoration-color: #7f7f7f\">787 │   </span>model_classes = {<span style=\"color: #808000; text-decoration-color: #808000\">\"tf\"</span>: targeted_task[<span style=\"color: #808000; text-decoration-color: #808000\">\"tf\"</span>], <span style=\"color: #808000; text-decoration-color: #808000\">\"pt\"</span>: targeted_task[<span style=\"color: #808000; text-decoration-color: #808000\">\"pt\"</span>]}                 <span style=\"color: #800000; text-decoration-color: #800000\">│</span>\n<span style=\"color: #800000; text-decoration-color: #800000\">│</span> <span style=\"color: #800000; text-decoration-color: #800000\">❱ </span>788 <span style=\"color: #7f7f7f; text-decoration-color: #7f7f7f\">│   </span>framework, model = infer_framework_load_model(                                         <span style=\"color: #800000; text-decoration-color: #800000\">│</span>\n<span style=\"color: #800000; text-decoration-color: #800000\">│</span>   <span style=\"color: #7f7f7f; text-decoration-color: #7f7f7f\">789 │   │   </span>model,                                                                             <span style=\"color: #800000; text-decoration-color: #800000\">│</span>\n<span style=\"color: #800000; text-decoration-color: #800000\">│</span>   <span style=\"color: #7f7f7f; text-decoration-color: #7f7f7f\">790 │   │   </span>model_classes=model_classes,                                                       <span style=\"color: #800000; text-decoration-color: #800000\">│</span>\n<span style=\"color: #800000; text-decoration-color: #800000\">│</span>   <span style=\"color: #7f7f7f; text-decoration-color: #7f7f7f\">791 │   │   </span>config=config,                                                                     <span style=\"color: #800000; text-decoration-color: #800000\">│</span>\n<span style=\"color: #800000; text-decoration-color: #800000\">│</span>                                                                                                  <span style=\"color: #800000; text-decoration-color: #800000\">│</span>\n<span style=\"color: #800000; text-decoration-color: #800000\">│</span> <span style=\"color: #bfbf7f; text-decoration-color: #bfbf7f\">/opt/homebrew/lib/python3.10/site-packages/transformers/pipelines/</span><span style=\"color: #808000; text-decoration-color: #808000; font-weight: bold\">base.py</span>:<span style=\"color: #0000ff; text-decoration-color: #0000ff\">278</span> in                 <span style=\"color: #800000; text-decoration-color: #800000\">│</span>\n<span style=\"color: #800000; text-decoration-color: #800000\">│</span> <span style=\"color: #00ff00; text-decoration-color: #00ff00\">infer_framework_load_model</span>                                                                       <span style=\"color: #800000; text-decoration-color: #800000\">│</span>\n<span style=\"color: #800000; text-decoration-color: #800000\">│</span>                                                                                                  <span style=\"color: #800000; text-decoration-color: #800000\">│</span>\n<span style=\"color: #800000; text-decoration-color: #800000\">│</span>   <span style=\"color: #7f7f7f; text-decoration-color: #7f7f7f\"> 275 │   │   │   │   </span><span style=\"color: #0000ff; text-decoration-color: #0000ff\">continue</span>                                                                  <span style=\"color: #800000; text-decoration-color: #800000\">│</span>\n<span style=\"color: #800000; text-decoration-color: #800000\">│</span>   <span style=\"color: #7f7f7f; text-decoration-color: #7f7f7f\"> 276 │   │   </span>                                                                                  <span style=\"color: #800000; text-decoration-color: #800000\">│</span>\n<span style=\"color: #800000; text-decoration-color: #800000\">│</span>   <span style=\"color: #7f7f7f; text-decoration-color: #7f7f7f\"> 277 │   │   </span><span style=\"color: #0000ff; text-decoration-color: #0000ff\">if</span> <span style=\"color: #00ffff; text-decoration-color: #00ffff\">isinstance</span>(model, <span style=\"color: #00ffff; text-decoration-color: #00ffff\">str</span>):                                                        <span style=\"color: #800000; text-decoration-color: #800000\">│</span>\n<span style=\"color: #800000; text-decoration-color: #800000\">│</span> <span style=\"color: #800000; text-decoration-color: #800000\">❱ </span> 278 <span style=\"color: #7f7f7f; text-decoration-color: #7f7f7f\">│   │   │   </span><span style=\"color: #0000ff; text-decoration-color: #0000ff\">raise</span> <span style=\"color: #00ffff; text-decoration-color: #00ffff\">ValueError</span>(<span style=\"color: #808000; text-decoration-color: #808000\">f\"Could not load model {</span>model<span style=\"color: #808000; text-decoration-color: #808000\">} with any of the following cl</span>  <span style=\"color: #800000; text-decoration-color: #800000\">│</span>\n<span style=\"color: #800000; text-decoration-color: #800000\">│</span>   <span style=\"color: #7f7f7f; text-decoration-color: #7f7f7f\"> 279 │   </span>                                                                                      <span style=\"color: #800000; text-decoration-color: #800000\">│</span>\n<span style=\"color: #800000; text-decoration-color: #800000\">│</span>   <span style=\"color: #7f7f7f; text-decoration-color: #7f7f7f\"> 280 │   </span>framework = infer_framework(model.<span style=\"color: #ff0000; text-decoration-color: #ff0000\">__class__</span>)                                          <span style=\"color: #800000; text-decoration-color: #800000\">│</span>\n<span style=\"color: #800000; text-decoration-color: #800000\">│</span>   <span style=\"color: #7f7f7f; text-decoration-color: #7f7f7f\"> 281 │   </span><span style=\"color: #0000ff; text-decoration-color: #0000ff\">return</span> framework, model                                                               <span style=\"color: #800000; text-decoration-color: #800000\">│</span>\n<span style=\"color: #800000; text-decoration-color: #800000\">╰──────────────────────────────────────────────────────────────────────────────────────────────────╯</span>\n<span style=\"color: #ff0000; text-decoration-color: #ff0000; font-weight: bold\">ValueError: </span>Could not load model databricks/dolly-v2-12b with any of the following classes: <span style=\"font-weight: bold\">(&lt;</span><span style=\"color: #ff00ff; text-decoration-color: #ff00ff; font-weight: bold\">class</span><span style=\"color: #000000; text-decoration-color: #000000\"> </span>\n<span style=\"color: #008000; text-decoration-color: #008000\">'transformers.models.auto.modeling_auto.AutoModelForCausalLM'</span><span style=\"color: #000000; text-decoration-color: #000000\">&gt;, &lt;class </span>\n<span style=\"color: #008000; text-decoration-color: #008000\">'transformers.models.gpt_neox.modeling_gpt_neox.GPTNeoXForCausalLM'</span><span style=\"font-weight: bold\">&gt;)</span>.\n</pre>\n"
     },
     "metadata": {},
     "output_type": "display_data"
    }
   ],
   "source": [
    "instruct_pipeline = pipeline(model=\"databricks/dolly-v2-12b\", torch_dtype=torch.bfloat16, trust_remote_code=True, device_map=\"auto\")"
   ],
   "metadata": {
    "collapsed": false,
    "ExecuteTime": {
     "end_time": "2023-06-23T04:14:42.910673Z",
     "start_time": "2023-06-23T04:13:47.615619Z"
    }
   }
  },
  {
   "cell_type": "code",
   "execution_count": null,
   "outputs": [],
   "source": [],
   "metadata": {
    "collapsed": false
   }
  }
 ],
 "metadata": {
  "kernelspec": {
   "display_name": "Python 3",
   "language": "python",
   "name": "python3"
  },
  "language_info": {
   "codemirror_mode": {
    "name": "ipython",
    "version": 2
   },
   "file_extension": ".py",
   "mimetype": "text/x-python",
   "name": "python",
   "nbconvert_exporter": "python",
   "pygments_lexer": "ipython2",
   "version": "2.7.6"
  }
 },
 "nbformat": 4,
 "nbformat_minor": 0
}
